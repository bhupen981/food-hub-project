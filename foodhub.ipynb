{
 "cells": [
  {
   "cell_type": "code",
   "execution_count": 1,
   "id": "423f82e4-b079-49c5-ae1f-7e3ac6b7dfc1",
   "metadata": {},
   "outputs": [],
   "source": [
    "import numpy as np\n",
    "import pandas as pd\n",
    "import matplotlib.pyplot as plt\n",
    "import seaborn as sns\n",
    "%matplotlib inline"
   ]
  },
  {
   "cell_type": "code",
   "execution_count": 2,
   "id": "f51b18c7-f71d-4452-9996-5f1f4a7e98ea",
   "metadata": {},
   "outputs": [],
   "source": [
    "df = pd.read_csv('2-foodhub_order_New.csv')"
   ]
  },
  {
   "cell_type": "code",
   "execution_count": 3,
   "id": "2de9ef57-049b-441f-b6ba-e4127856214a",
   "metadata": {},
   "outputs": [
    {
     "data": {
      "text/html": [
       "<div>\n",
       "<style scoped>\n",
       "    .dataframe tbody tr th:only-of-type {\n",
       "        vertical-align: middle;\n",
       "    }\n",
       "\n",
       "    .dataframe tbody tr th {\n",
       "        vertical-align: top;\n",
       "    }\n",
       "\n",
       "    .dataframe thead th {\n",
       "        text-align: right;\n",
       "    }\n",
       "</style>\n",
       "<table border=\"1\" class=\"dataframe\">\n",
       "  <thead>\n",
       "    <tr style=\"text-align: right;\">\n",
       "      <th></th>\n",
       "      <th>order_id</th>\n",
       "      <th>customer_id</th>\n",
       "      <th>restaurant_name</th>\n",
       "      <th>cuisine_type</th>\n",
       "      <th>cost_of_the_order</th>\n",
       "      <th>day_of_the_week</th>\n",
       "      <th>rating</th>\n",
       "      <th>food_preparation_time</th>\n",
       "      <th>delivery_time</th>\n",
       "    </tr>\n",
       "  </thead>\n",
       "  <tbody>\n",
       "    <tr>\n",
       "      <th>0</th>\n",
       "      <td>1477147</td>\n",
       "      <td>337525</td>\n",
       "      <td>Hangawi</td>\n",
       "      <td>Korean</td>\n",
       "      <td>30.75</td>\n",
       "      <td>Weekend</td>\n",
       "      <td>Not given</td>\n",
       "      <td>25.0</td>\n",
       "      <td>20</td>\n",
       "    </tr>\n",
       "    <tr>\n",
       "      <th>1</th>\n",
       "      <td>1477685</td>\n",
       "      <td>358141</td>\n",
       "      <td>Blue Ribbon Sushi Izakaya</td>\n",
       "      <td>Japanese</td>\n",
       "      <td>12.08</td>\n",
       "      <td>Weekend</td>\n",
       "      <td>Not given</td>\n",
       "      <td>25.0</td>\n",
       "      <td>?</td>\n",
       "    </tr>\n",
       "    <tr>\n",
       "      <th>2</th>\n",
       "      <td>1477070</td>\n",
       "      <td>66393</td>\n",
       "      <td>Cafe Habana</td>\n",
       "      <td>Mexican</td>\n",
       "      <td>12.23</td>\n",
       "      <td>Weekday</td>\n",
       "      <td>5</td>\n",
       "      <td>23.0</td>\n",
       "      <td>28</td>\n",
       "    </tr>\n",
       "    <tr>\n",
       "      <th>3</th>\n",
       "      <td>1477334</td>\n",
       "      <td>106968</td>\n",
       "      <td>Blue Ribbon Fried Chicken</td>\n",
       "      <td>American</td>\n",
       "      <td>29.20</td>\n",
       "      <td>Weekend</td>\n",
       "      <td>3</td>\n",
       "      <td>25.0</td>\n",
       "      <td>15</td>\n",
       "    </tr>\n",
       "    <tr>\n",
       "      <th>4</th>\n",
       "      <td>1478249</td>\n",
       "      <td>76942</td>\n",
       "      <td>Dirty Bird to Go</td>\n",
       "      <td>American</td>\n",
       "      <td>11.59</td>\n",
       "      <td>Weekday</td>\n",
       "      <td>4</td>\n",
       "      <td>25.0</td>\n",
       "      <td>24</td>\n",
       "    </tr>\n",
       "  </tbody>\n",
       "</table>\n",
       "</div>"
      ],
      "text/plain": [
       "   order_id  customer_id            restaurant_name cuisine_type  \\\n",
       "0   1477147       337525                    Hangawi       Korean   \n",
       "1   1477685       358141  Blue Ribbon Sushi Izakaya     Japanese   \n",
       "2   1477070        66393                Cafe Habana      Mexican   \n",
       "3   1477334       106968  Blue Ribbon Fried Chicken     American   \n",
       "4   1478249        76942           Dirty Bird to Go     American   \n",
       "\n",
       "   cost_of_the_order day_of_the_week     rating  food_preparation_time  \\\n",
       "0              30.75         Weekend  Not given                   25.0   \n",
       "1              12.08         Weekend  Not given                   25.0   \n",
       "2              12.23         Weekday          5                   23.0   \n",
       "3              29.20         Weekend          3                   25.0   \n",
       "4              11.59         Weekday          4                   25.0   \n",
       "\n",
       "  delivery_time  \n",
       "0            20  \n",
       "1             ?  \n",
       "2            28  \n",
       "3            15  \n",
       "4            24  "
      ]
     },
     "execution_count": 3,
     "metadata": {},
     "output_type": "execute_result"
    }
   ],
   "source": [
    "#display the last 5 rows\n",
    "df.head()"
   ]
  },
  {
   "cell_type": "code",
   "execution_count": 4,
   "id": "7e061f49-81de-4134-a8fa-0f6f6e790066",
   "metadata": {},
   "outputs": [
    {
     "data": {
      "text/html": [
       "<div>\n",
       "<style scoped>\n",
       "    .dataframe tbody tr th:only-of-type {\n",
       "        vertical-align: middle;\n",
       "    }\n",
       "\n",
       "    .dataframe tbody tr th {\n",
       "        vertical-align: top;\n",
       "    }\n",
       "\n",
       "    .dataframe thead th {\n",
       "        text-align: right;\n",
       "    }\n",
       "</style>\n",
       "<table border=\"1\" class=\"dataframe\">\n",
       "  <thead>\n",
       "    <tr style=\"text-align: right;\">\n",
       "      <th></th>\n",
       "      <th>order_id</th>\n",
       "      <th>customer_id</th>\n",
       "      <th>restaurant_name</th>\n",
       "      <th>cuisine_type</th>\n",
       "      <th>cost_of_the_order</th>\n",
       "      <th>day_of_the_week</th>\n",
       "      <th>rating</th>\n",
       "      <th>food_preparation_time</th>\n",
       "      <th>delivery_time</th>\n",
       "    </tr>\n",
       "  </thead>\n",
       "  <tbody>\n",
       "    <tr>\n",
       "      <th>1893</th>\n",
       "      <td>1476701</td>\n",
       "      <td>292602</td>\n",
       "      <td>Chipotle Mexican Grill $1.99 Delivery</td>\n",
       "      <td>Mexican</td>\n",
       "      <td>22.31</td>\n",
       "      <td>Weekend</td>\n",
       "      <td>5</td>\n",
       "      <td>31.0</td>\n",
       "      <td>17</td>\n",
       "    </tr>\n",
       "    <tr>\n",
       "      <th>1894</th>\n",
       "      <td>1477421</td>\n",
       "      <td>397537</td>\n",
       "      <td>The Smile</td>\n",
       "      <td>American</td>\n",
       "      <td>12.18</td>\n",
       "      <td>Weekend</td>\n",
       "      <td>5</td>\n",
       "      <td>31.0</td>\n",
       "      <td>19</td>\n",
       "    </tr>\n",
       "    <tr>\n",
       "      <th>1895</th>\n",
       "      <td>1477819</td>\n",
       "      <td>35309</td>\n",
       "      <td>Blue Ribbon Sushi</td>\n",
       "      <td>Japanese</td>\n",
       "      <td>25.22</td>\n",
       "      <td>Weekday</td>\n",
       "      <td>Not given</td>\n",
       "      <td>31.0</td>\n",
       "      <td>24</td>\n",
       "    </tr>\n",
       "    <tr>\n",
       "      <th>1896</th>\n",
       "      <td>1477513</td>\n",
       "      <td>64151</td>\n",
       "      <td>Jack's Wife Freda</td>\n",
       "      <td>Mediterranean</td>\n",
       "      <td>12.18</td>\n",
       "      <td>Weekday</td>\n",
       "      <td>5</td>\n",
       "      <td>23.0</td>\n",
       "      <td>31</td>\n",
       "    </tr>\n",
       "    <tr>\n",
       "      <th>1897</th>\n",
       "      <td>1478056</td>\n",
       "      <td>120353</td>\n",
       "      <td>Blue Ribbon Sushi</td>\n",
       "      <td>Japanese</td>\n",
       "      <td>19.45</td>\n",
       "      <td>Weekend</td>\n",
       "      <td>Not given</td>\n",
       "      <td>28.0</td>\n",
       "      <td>24</td>\n",
       "    </tr>\n",
       "  </tbody>\n",
       "</table>\n",
       "</div>"
      ],
      "text/plain": [
       "      order_id  customer_id                        restaurant_name  \\\n",
       "1893   1476701       292602  Chipotle Mexican Grill $1.99 Delivery   \n",
       "1894   1477421       397537                              The Smile   \n",
       "1895   1477819        35309                      Blue Ribbon Sushi   \n",
       "1896   1477513        64151                      Jack's Wife Freda   \n",
       "1897   1478056       120353                      Blue Ribbon Sushi   \n",
       "\n",
       "       cuisine_type  cost_of_the_order day_of_the_week     rating  \\\n",
       "1893        Mexican              22.31         Weekend          5   \n",
       "1894       American              12.18         Weekend          5   \n",
       "1895       Japanese              25.22         Weekday  Not given   \n",
       "1896  Mediterranean              12.18         Weekday          5   \n",
       "1897       Japanese              19.45         Weekend  Not given   \n",
       "\n",
       "      food_preparation_time delivery_time  \n",
       "1893                   31.0            17  \n",
       "1894                   31.0            19  \n",
       "1895                   31.0            24  \n",
       "1896                   23.0            31  \n",
       "1897                   28.0            24  "
      ]
     },
     "execution_count": 4,
     "metadata": {},
     "output_type": "execute_result"
    }
   ],
   "source": [
    "#display the last 5 rows\n",
    "df.tail()"
   ]
  },
  {
   "cell_type": "code",
   "execution_count": 5,
   "id": "1866d27d-5ff7-41f5-96c5-61ea7483d31f",
   "metadata": {},
   "outputs": [
    {
     "data": {
      "text/plain": [
       "(1898, 9)"
      ]
     },
     "execution_count": 5,
     "metadata": {},
     "output_type": "execute_result"
    }
   ],
   "source": [
    "#check the shape of the dataset\n",
    "df.shape"
   ]
  },
  {
   "cell_type": "code",
   "execution_count": 6,
   "id": "3cf336a1-394e-467b-921e-8dc951565e51",
   "metadata": {},
   "outputs": [
    {
     "data": {
      "text/plain": [
       "order_id                   int64\n",
       "customer_id                int64\n",
       "restaurant_name           object\n",
       "cuisine_type              object\n",
       "cost_of_the_order        float64\n",
       "day_of_the_week           object\n",
       "rating                    object\n",
       "food_preparation_time    float64\n",
       "delivery_time             object\n",
       "dtype: object"
      ]
     },
     "execution_count": 6,
     "metadata": {},
     "output_type": "execute_result"
    }
   ],
   "source": [
    "#check the datatypes of each feature\n",
    "df.dtypes"
   ]
  },
  {
   "cell_type": "code",
   "execution_count": 7,
   "id": "3ae013d8-3a35-46d1-b1e8-532b5b27d94b",
   "metadata": {},
   "outputs": [
    {
     "data": {
      "text/html": [
       "<div>\n",
       "<style scoped>\n",
       "    .dataframe tbody tr th:only-of-type {\n",
       "        vertical-align: middle;\n",
       "    }\n",
       "\n",
       "    .dataframe tbody tr th {\n",
       "        vertical-align: top;\n",
       "    }\n",
       "\n",
       "    .dataframe thead th {\n",
       "        text-align: right;\n",
       "    }\n",
       "</style>\n",
       "<table border=\"1\" class=\"dataframe\">\n",
       "  <thead>\n",
       "    <tr style=\"text-align: right;\">\n",
       "      <th></th>\n",
       "      <th>order_id</th>\n",
       "      <th>customer_id</th>\n",
       "      <th>cost_of_the_order</th>\n",
       "      <th>food_preparation_time</th>\n",
       "    </tr>\n",
       "  </thead>\n",
       "  <tbody>\n",
       "    <tr>\n",
       "      <th>count</th>\n",
       "      <td>1.898000e+03</td>\n",
       "      <td>1898.000000</td>\n",
       "      <td>1898.000000</td>\n",
       "      <td>1896.000000</td>\n",
       "    </tr>\n",
       "    <tr>\n",
       "      <th>mean</th>\n",
       "      <td>1.477496e+06</td>\n",
       "      <td>171168.478398</td>\n",
       "      <td>80.722007</td>\n",
       "      <td>27.371835</td>\n",
       "    </tr>\n",
       "    <tr>\n",
       "      <th>std</th>\n",
       "      <td>5.480497e+02</td>\n",
       "      <td>113698.139743</td>\n",
       "      <td>2798.141333</td>\n",
       "      <td>4.634211</td>\n",
       "    </tr>\n",
       "    <tr>\n",
       "      <th>min</th>\n",
       "      <td>1.476547e+06</td>\n",
       "      <td>1311.000000</td>\n",
       "      <td>0.000000</td>\n",
       "      <td>20.000000</td>\n",
       "    </tr>\n",
       "    <tr>\n",
       "      <th>25%</th>\n",
       "      <td>1.477021e+06</td>\n",
       "      <td>77787.750000</td>\n",
       "      <td>12.080000</td>\n",
       "      <td>23.000000</td>\n",
       "    </tr>\n",
       "    <tr>\n",
       "      <th>50%</th>\n",
       "      <td>1.477496e+06</td>\n",
       "      <td>128600.000000</td>\n",
       "      <td>14.160000</td>\n",
       "      <td>27.000000</td>\n",
       "    </tr>\n",
       "    <tr>\n",
       "      <th>75%</th>\n",
       "      <td>1.477970e+06</td>\n",
       "      <td>270525.000000</td>\n",
       "      <td>22.310000</td>\n",
       "      <td>31.000000</td>\n",
       "    </tr>\n",
       "    <tr>\n",
       "      <th>max</th>\n",
       "      <td>1.478444e+06</td>\n",
       "      <td>405334.000000</td>\n",
       "      <td>121920.000000</td>\n",
       "      <td>35.000000</td>\n",
       "    </tr>\n",
       "  </tbody>\n",
       "</table>\n",
       "</div>"
      ],
      "text/plain": [
       "           order_id    customer_id  cost_of_the_order  food_preparation_time\n",
       "count  1.898000e+03    1898.000000        1898.000000            1896.000000\n",
       "mean   1.477496e+06  171168.478398          80.722007              27.371835\n",
       "std    5.480497e+02  113698.139743        2798.141333               4.634211\n",
       "min    1.476547e+06    1311.000000           0.000000              20.000000\n",
       "25%    1.477021e+06   77787.750000          12.080000              23.000000\n",
       "50%    1.477496e+06  128600.000000          14.160000              27.000000\n",
       "75%    1.477970e+06  270525.000000          22.310000              31.000000\n",
       "max    1.478444e+06  405334.000000      121920.000000              35.000000"
      ]
     },
     "execution_count": 7,
     "metadata": {},
     "output_type": "execute_result"
    }
   ],
   "source": [
    "#check the statistical summary\n",
    "df.describe()"
   ]
  },
  {
   "cell_type": "code",
   "execution_count": 8,
   "id": "17b2117f-db15-45ad-bdfc-41f7468f12a5",
   "metadata": {},
   "outputs": [
    {
     "data": {
      "text/plain": [
       "order_id                 0\n",
       "customer_id              0\n",
       "restaurant_name          0\n",
       "cuisine_type             3\n",
       "cost_of_the_order        0\n",
       "day_of_the_week          0\n",
       "rating                   0\n",
       "food_preparation_time    2\n",
       "delivery_time            0\n",
       "dtype: int64"
      ]
     },
     "execution_count": 8,
     "metadata": {},
     "output_type": "execute_result"
    }
   ],
   "source": [
    "#check for null values \n",
    "df.isnull().sum()"
   ]
  },
  {
   "cell_type": "code",
   "execution_count": 9,
   "id": "7a1b06b2-51e7-476d-8741-c9181239c653",
   "metadata": {},
   "outputs": [
    {
     "data": {
      "text/plain": [
       "0"
      ]
     },
     "execution_count": 9,
     "metadata": {},
     "output_type": "execute_result"
    }
   ],
   "source": [
    "#check for duplicate values\n",
    "df.duplicated().sum()"
   ]
  },
  {
   "cell_type": "code",
   "execution_count": 10,
   "id": "352e67a3-ebf1-42a8-86bc-a29ad43f8ec4",
   "metadata": {},
   "outputs": [
    {
     "name": "stdout",
     "output_type": "stream",
     "text": [
      "['Hangawi' 'Blue Ribbon Sushi Izakaya' 'Cafe Habana'\n",
      " 'Blue Ribbon Fried Chicken' 'Dirty Bird to Go' 'Tamarind TriBeCa'\n",
      " 'The Meatball Shop' 'Barbounia' 'Anjappar Chettinad' 'Bukhara Grill'\n",
      " 'Big Wong Restaurant \\x8c_¤¾Ñ¼' 'Empanada Mama (closed)' 'Pylos'\n",
      " \"Lucky's Famous Burgers\" 'Shake Shack' 'Sushi of Gari' 'RedFarm Hudson'\n",
      " 'Blue Ribbon Sushi' 'Five Guys Burgers and Fries' 'Tortaria'\n",
      " 'Cafe Mogador' 'Otto Enoteca Pizzeria' 'Vezzo Thin Crust Pizza'\n",
      " 'Sushi of Gari 46' 'The Kati Roll Company' 'Klong' '5 Napkin Burger'\n",
      " 'TAO' 'Parm' 'Sushi Samba' 'Haru Gramercy Park'\n",
      " 'Chipotle Mexican Grill $1.99 Delivery' 'RedFarm Broadway' 'Cafeteria'\n",
      " 'DuMont Burger' \"Sarabeth's East\" 'Hill Country Fried Chicken' 'Bistango'\n",
      " \"Jack's Wife Freda\" \"Mamoun's Falafel\" 'Prosperity Dumpling'\n",
      " 'Blue Ribbon Sushi Bar & Grill' 'Westville Hudson' 'Blue Ribbon Brooklyn'\n",
      " 'Nobu Next Door' 'Osteria Morini' 'Haandi' 'Benihana' 'Han Dynasty'\n",
      " 'Chote Nawab' 'Mission Cantina' \"Xi'an Famous Foods\" 'Rubirosa'\n",
      " \"Joe's Shanghai \\x8e_À\\x8eü£¾÷´\" 'Bareburger' 'The Odeon' 'Pongsri Thai'\n",
      " 'Yama Japanese Restaurant' 'Momoya' 'Balthazar Boulangerie' 'CafÌ© China'\n",
      " 'Boqueria' 'Song Thai Restaurant & Bar' 'Five Leaves'\n",
      " 'Pinto Nouveau Thai Bistro' \"Amy Ruth's\" 'Pepe Giallo' 'indikitch'\n",
      " 'Yama 49' 'Piccolo Angolo' 'Pepe Rosso To Go' \"L'Express\" 'Amma'\n",
      " 'Delicatessen' \"S'MAC\" \"Vanessa's Dumplings\" 'Bhatti Indian Grill'\n",
      " 'Taro Sushi' 'Donburi-ya' 'Hatsuhana' 'Samurai Mama' 'Waverly Diner'\n",
      " 'Tarallucci e Vino Restaurant' \"P.J. Clarke's\" 'Lantern Thai Kitchen'\n",
      " 'ilili Restaurant' 'The Smile' \"Vanessa's Dumpling House\" \"Bubby's \"\n",
      " 'Woorijip' 'Dirty Bird To Go (archived)' 'Haveli Indian Restaurant'\n",
      " 'Dos Caminos' 'da Umberto' 'Sushi of Gari Tribeca' 'Burger Joint'\n",
      " 'Room Service' \"Sarabeth's Restaurant\" 'Xe May Sandwich Shop' 'Hibino'\n",
      " 'Mira Sushi' 'Melt Shop' 'J. G. Melon' 'Hummus Place' 'Saravanaa Bhavan'\n",
      " 'Friend of a Farmer' 'The Loop' 'Balade' 'Posto' 'Terakawa Ramen'\n",
      " 'Kambi Ramen House' 'Wo Hop Restaurant' 'Spice Thai'\n",
      " \"Dickson's Farmstand Meats\" 'UVA Wine Bar & Restaurant'\n",
      " 'Serafina Fabulous Pizza' 'Gaia Italian Cafe'\n",
      " 'Chola Eclectic Indian Cuisine' 'Hot Kitchen' 'Junoon'\n",
      " 'Ravagh Persian Grill' 'Rohm Thai' 'Dig Inn Seasonal Market' 'Olea'\n",
      " 'Cho Dang Gol' 'El Parador Cafe' 'Socarrat Paella Bar'\n",
      " \"Don's Bogam BBQ & Wine Bar\" 'Alidoro' \"Tony's Di Napoli\"\n",
      " 'Cipriani Le Specialita' 'Sushi Choshi' 'Kanoyama' 'V-Nam Cafe'\n",
      " 'Zero Otto Nove' 'Dos Caminos Soho' 'Go! Go! Curry!' 'La Follia'\n",
      " 'Izakaya Ten' '12 Chairs' 'Philippe Chow' 'The MasalaWala' 'brgr'\n",
      " \"Carmine's\" 'Asuka Sushi' 'Aurora' \"Sarabeth's\" 'Crema Restaurante'\n",
      " \"Big Daddy's\" 'Moonstruck on Second' 'Cafe de La Esquina' 'Olive Garden'\n",
      " '67 Burger' 'Tres Carnes' \"Schnipper's Quality Kitchen\" 'Nha Trang One'\n",
      " 'Market Table' 'Galli Restaurant' 'Hampton Chutney Co.'\n",
      " 'Byblos Restaurant' 'Grand Sichuan International' 'Le Grainne Cafe'\n",
      " 'Il Bambino' 'Kori Restaurant and Bar' 'DespaÌ±a' 'Lamarca Pasta'\n",
      " 'Lucky Strike' \"Paul & Jimmy's\" 'Hunan Manor' \"Coppola's East\" 'Emporio'\n",
      " 'Wa Jeal' 'Le Zie 2000 Trattoria' 'Rye House' \"Hiroko's Place\"\n",
      " 'Frank Restaurant' \"Sarabeth's West\" \"'wichcraft\"]\n",
      "['Korean' 'Japanese' 'Mexican' 'American' 'Indian' 'Italian'\n",
      " 'Mediterranean' 'Chinese' nan 'Middle Eastern' 'Thai' 'Southern' 'French'\n",
      " 'Spanish' 'Vietnamese']\n",
      "['Weekend' 'Weekday']\n"
     ]
    }
   ],
   "source": [
    "#check the anomalies or wrong entries.\n",
    "#inspect umique values\n",
    "print(df['restaurant_name'].unique())\n",
    "print(df['cuisine_type'].unique())\n",
    "print(df['day_of_the_week'].unique())"
   ]
  },
  {
   "cell_type": "code",
   "execution_count": 11,
   "id": "998daea3-db6c-4909-b636-e7e2f93cef91",
   "metadata": {},
   "outputs": [],
   "source": [
    "#check the outliers and their authenticity\n"
   ]
  },
  {
   "cell_type": "markdown",
   "id": "74a9acf0-1c0e-47ec-a009-9f51cfd0d71f",
   "metadata": {},
   "source": [
    "###1.ORDER ANALYSIS"
   ]
  },
  {
   "cell_type": "code",
   "execution_count": 12,
   "id": "e805cbe2-afc5-4dd8-9dba-61fb3e6ba2e8",
   "metadata": {},
   "outputs": [
    {
     "name": "stdout",
     "output_type": "stream",
     "text": [
      "Total number of orders: 1898\n"
     ]
    }
   ],
   "source": [
    "# Calculate the total number of orders\n",
    "total_orders = df.shape[0]\n",
    "print(\"Total number of orders:\", total_orders)"
   ]
  },
  {
   "cell_type": "code",
   "execution_count": 13,
   "id": "6753d562-f081-43fd-86f3-8bb642617f78",
   "metadata": {},
   "outputs": [
    {
     "name": "stdout",
     "output_type": "stream",
     "text": [
      "Average cost of an order: 80.72200737618546\n"
     ]
    }
   ],
   "source": [
    "#Calculate the average cost of an order\n",
    "average_cost = df['cost_of_the_order'].mean()\n",
    "print(\"Average cost of an order:\", average_cost)"
   ]
  },
  {
   "cell_type": "code",
   "execution_count": 14,
   "id": "d32b0a33-1ac2-49e7-9d66-4115d5325808",
   "metadata": {},
   "outputs": [
    {
     "name": "stdout",
     "output_type": "stream",
     "text": [
      "Number of unique customers: 1200\n"
     ]
    }
   ],
   "source": [
    "unique_customers = df['customer_id'].nunique()\n",
    "print(\"Number of unique customers:\", unique_customers)"
   ]
  },
  {
   "cell_type": "code",
   "execution_count": 15,
   "id": "bfe18e9a-b8ec-4f41-b57a-a5bc706f94d0",
   "metadata": {},
   "outputs": [
    {
     "name": "stdout",
     "output_type": "stream",
     "text": [
      "Restaurant with the highest number of orders: Shake Shack\n",
      "Number of orders: 219\n"
     ]
    }
   ],
   "source": [
    "#Group by restaurant_name and count the number of orders for each restaurant\n",
    "restaurant_order_counts = df['restaurant_name'].value_counts()\n",
    "\n",
    "# Get the restaurant with the highest number of orders\n",
    "restaurant_with_most_orders = restaurant_order_counts.idxmax()\n",
    "highest_orders_count = restaurant_order_counts.max()\n",
    "\n",
    "print(\"Restaurant with the highest number of orders:\", restaurant_with_most_orders)\n",
    "print(\"Number of orders:\", highest_orders_count)"
   ]
  },
  {
   "cell_type": "markdown",
   "id": "319b19bb-27b2-4c51-a64e-fc4e699c63e6",
   "metadata": {},
   "source": [
    "###2.CUSTOMER BEHAVIOUR"
   ]
  },
  {
   "cell_type": "code",
   "execution_count": 16,
   "id": "06ce82b1-3f03-40f1-b0a2-c80296f11c17",
   "metadata": {},
   "outputs": [],
   "source": [
    "# Calculate the average rating given by customers\n",
    "#average_rating = df['rating'].mean()\n",
    "\n",
    "#print(\"Average rating given by customers:\", average_rating)"
   ]
  },
  {
   "cell_type": "code",
   "execution_count": 17,
   "id": "2bfb4c68-f908-491b-8049-bd58964df8db",
   "metadata": {},
   "outputs": [
    {
     "name": "stdout",
     "output_type": "stream",
     "text": [
      "Average rating on weekdays: nan\n",
      "Average rating on weekends: nan\n"
     ]
    }
   ],
   "source": [
    "# Convert 'day_of_the_week' to categorical if needed\n",
    "df['day_of_the_week'] = pd.Categorical(df['day_of_the_week'], categories=['Monday', 'Tuesday', 'Wednesday', 'Thursday', 'Friday', 'Saturday', 'Sunday'], ordered=True)\n",
    "\n",
    "# Calculate average rating for weekdays\n",
    "weekday_ratings = df[df['day_of_the_week'].isin(['Monday', 'Tuesday', 'Wednesday', 'Thursday', 'Friday'])]['rating'].mean()\n",
    "\n",
    "# Calculate average rating for weekends\n",
    "weekend_ratings = df[df['day_of_the_week'].isin(['Saturday', 'Sunday'])]['rating'].mean()\n",
    "\n",
    "print(\"Average rating on weekdays:\", weekday_ratings)\n",
    "print(\"Average rating on weekends:\", weekend_ratings)"
   ]
  },
  {
   "cell_type": "code",
   "execution_count": 18,
   "id": "546431bf-33da-498d-8c5f-643a9047872b",
   "metadata": {},
   "outputs": [
    {
     "name": "stdout",
     "output_type": "stream",
     "text": [
      "Cuisine type ordered the most: American\n"
     ]
    }
   ],
   "source": [
    "#which cuisine type is ordered the most\n",
    "popular_cuisine = df['cuisine_type'].value_counts().idxmax()\n",
    "print(\"Cuisine type ordered the most:\",popular_cuisine)"
   ]
  },
  {
   "cell_type": "code",
   "execution_count": 19,
   "id": "e80af0f0-56b6-4ec5-81e9-6040975a2c62",
   "metadata": {},
   "outputs": [
    {
     "name": "stderr",
     "output_type": "stream",
     "text": [
      "C:\\bhupen\\Lib\\site-packages\\seaborn\\categorical.py:641: FutureWarning: The default of observed=False is deprecated and will be changed to True in a future version of pandas. Pass observed=False to retain current behavior or observed=True to adopt the future default and silence this warning.\n",
      "  grouped_vals = vals.groupby(grouper)\n"
     ]
    },
    {
     "data": {
      "image/png": "[encoded data removed]",
      "text/plain": [
       "<Figure size 1000x600 with 1 Axes>"
      ]
     },
     "metadata": {},
     "output_type": "display_data"
    }
   ],
   "source": [
    "# Count the number of orders for each day of the week\n",
    "order_counts = df['day_of_the_week'].value_counts().sort_index()\n",
    "\n",
    "# Plotting the distribution of orders across different days of the week\n",
    "plt.figure(figsize=(10, 6))\n",
    "sns.barplot(x=order_counts.index, y=order_counts.values, palette='viridis')\n",
    "plt.xlabel('Day of the Week')\n",
    "plt.ylabel('Number of Orders')\n",
    "plt.title('Distribution of Orders Across Different Days of the Week')\n",
    "plt.xticks(rotation=45)\n",
    "plt.tight_layout()\n",
    "plt.show()"
   ]
  },
  {
   "cell_type": "markdown",
   "id": "bd36bdc5-0151-4478-ac73-e61f53a00074",
   "metadata": {},
   "source": [
    "###RESTAURANT PERFORMANCE "
   ]
  },
  {
   "cell_type": "code",
   "execution_count": 20,
   "id": "249a7df1-fb5c-48ef-af9d-ccc00e79e35c",
   "metadata": {},
   "outputs": [
    {
     "name": "stdout",
     "output_type": "stream",
     "text": [
      "Average food preparation time for each restaurant:\n",
      "restaurant_name\n",
      "'wichcraft          28.000000\n",
      "12 Chairs           27.000000\n",
      "5 Napkin Burger     30.200000\n",
      "67 Burger           20.000000\n",
      "Alidoro             34.000000\n",
      "                      ...    \n",
      "Zero Otto Nove      30.000000\n",
      "brgr                25.000000\n",
      "da Umberto          24.333333\n",
      "ilili Restaurant    26.388889\n",
      "indikitch           30.750000\n",
      "Name: food_preparation_time, Length: 178, dtype: float64\n"
     ]
    }
   ],
   "source": [
    "#What is the average food preparation time for each restaurant?\n",
    "avg_prep_time_per_restaurant = df.groupby('restaurant_name')['food_preparation_time'].mean()\n",
    "\n",
    "print(\"Average food preparation time for each restaurant:\")\n",
    "print(avg_prep_time_per_restaurant)"
   ]
  },
  {
   "cell_type": "code",
   "execution_count": 21,
   "id": "f3c72b1d-0052-4843-8612-bb85b83f3bf5",
   "metadata": {},
   "outputs": [
    {
     "name": "stdout",
     "output_type": "stream",
     "text": [
      "Restaurant with the shortest average food preparation time: 67 Burger\n",
      "Shortest average food preparation time: 20.0 minutes\n"
     ]
    }
   ],
   "source": [
    "#Which restaurant has the shortest average food preparation time?\n",
    "restaurant_shortest_prep_time = avg_prep_time_per_restaurant.idxmin()\n",
    "shortest_prep_time = avg_prep_time_per_restaurant.min()\n",
    "\n",
    "print(\"Restaurant with the shortest average food preparation time:\", restaurant_shortest_prep_time)\n",
    "print(\"Shortest average food preparation time:\", shortest_prep_time, \"minutes\")"
   ]
  },
  {
   "cell_type": "code",
   "execution_count": 22,
   "id": "58752619-4d7f-42b0-8992-5d3c10c5c32d",
   "metadata": {},
   "outputs": [],
   "source": [
    "#How does the average delivery time compare across different restaurants?\n",
    "#avg_delivery_time_per_restaurant = df.groupby('restaurant_name')['delivery_time'].mean()\n",
    "\n",
    "#print(\"Average delivery time for each restaurant:\")\n",
    "#print(avg_delivery_time_per_restaurant)"
   ]
  },
  {
   "cell_type": "code",
   "execution_count": 23,
   "id": "cad2f596-b7d3-41bb-a561-3693ba1017d1",
   "metadata": {},
   "outputs": [],
   "source": [
    "#Is there a correlation between the cost of the order and the rating given?\n",
    "#correlation = df['cost_of_the_order'].corr(df['rating'])\n",
    "\n",
    "#print(\"Correlation between cost of order and rating given:\", correlation)"
   ]
  },
  {
   "cell_type": "markdown",
   "id": "fe36b66c-ecff-4a29-b5cb-e2dde0083941",
   "metadata": {},
   "source": [
    "###DEMAND PATTERNS"
   ]
  },
  {
   "cell_type": "code",
   "execution_count": 24,
   "id": "b2357a83-b18b-4e3c-8ce4-ea25442de2c6",
   "metadata": {},
   "outputs": [
    {
     "name": "stderr",
     "output_type": "stream",
     "text": [
      "C:\\Users\\BHUPENDRA SAINI\\AppData\\Local\\Temp\\ipykernel_18688\\953771539.py:25: FutureWarning: The default of observed=False is deprecated and will be changed to True in a future version of pandas. Pass observed=False to retain current behavior or observed=True to adopt the future default and silence this warning.\n",
      "  orders_count = orders.groupby(['cuisine_type', 'day_of_the_week']).size().reset_index(name='order_count')\n"
     ]
    },
    {
     "data": {
      "image/png": "[encoded data removed]",
      "text/plain": [
       "<Figure size 1000x600 with 1 Axes>"
      ]
     },
     "metadata": {},
     "output_type": "display_data"
    }
   ],
   "source": [
    "# Example data (replace with your actual data loading)\n",
    "data = {\n",
    "    'order_id': [1, 2, 3, 4, 5, 6, 7, 8, 9, 10],\n",
    "    'customer_id': [101, 102, 103, 104, 105, 106, 107, 108, 109, 110],\n",
    "    'restaurant_name': ['Restaurant A', 'Restaurant B', 'Restaurant A', 'Restaurant C', 'Restaurant B',\n",
    "                        'Restaurant A', 'Restaurant B', 'Restaurant C', 'Restaurant A', 'Restaurant B'],\n",
    "    'cuisine_type': ['Italian', 'Chinese', 'Indian', 'Mexican', 'Italian',\n",
    "                     'Chinese', 'Indian', 'Mexican', 'Italian', 'Chinese'],\n",
    "    'cost': [30, 25, 40, 35, 20, 45, 28, 38, 32, 22],\n",
    "    'day_of_the_week': ['Monday', 'Wednesday', 'Saturday', 'Friday', 'Sunday',\n",
    "                        'Tuesday', 'Thursday', 'Sunday', 'Monday', 'Saturday'],\n",
    "    'rating': [4, 3, 5, 4, 2, 3, 4, 5, 3, 4],\n",
    "    'food_preparation_time': [20, 15, 25, 30, 18, 22, 17, 28, 26, 20],\n",
    "    'delivery_time': [10, 12, 15, 20, 8, 11, 14, 18, 16, 10]\n",
    "}\n",
    "\n",
    "orders = pd.DataFrame(data)\n",
    "\n",
    "# Convert 'day_of_the_week' to categorical for proper sorting\n",
    "orders['day_of_the_week'] = pd.Categorical(orders['day_of_the_week'],\n",
    "                                           categories=['Monday', 'Tuesday', 'Wednesday', 'Thursday', 'Friday', 'Saturday', 'Sunday'],\n",
    "                                           ordered=True)\n",
    "\n",
    "# Group by cuisine_type and day_of_the_week, count orders\n",
    "orders_count = orders.groupby(['cuisine_type', 'day_of_the_week']).size().reset_index(name='order_count')\n",
    "\n",
    "# Calculate total orders per cuisine_type\n",
    "total_orders_per_cuisine = orders_count.groupby('cuisine_type')['order_count'].sum()\n",
    "\n",
    "# Calculate percentage of orders for each cuisine_type on weekdays and weekends\n",
    "orders_count['total_orders_cuisine'] = orders_count['cuisine_type'].map(total_orders_per_cuisine)\n",
    "orders_count['percentage'] = (orders_count['order_count'] / orders_count['total_orders_cuisine']) * 100\n",
    "\n",
    "# Pivot the data to have cuisine_type as columns for better visualization\n",
    "pivot_data = orders_count.pivot(index='cuisine_type', columns='day_of_the_week', values='percentage')\n",
    "\n",
    "# Plotting\n",
    "pivot_data.plot(kind='bar', stacked=True, figsize=(10, 6))\n",
    "plt.title('Percentage Distribution of Cuisine Types on Weekdays vs. Weekends')\n",
    "plt.xlabel('Cuisine Type')\n",
    "plt.ylabel('Percentage (%)')\n",
    "plt.xticks(rotation=45)\n",
    "plt.legend(title='Day of the Week')\n",
    "plt.tight_layout()\n",
    "plt.show()"
   ]
  },
  {
   "cell_type": "code",
   "execution_count": 25,
   "id": "7ed3f094-e63b-4760-adb9-7676d7ed8f3b",
   "metadata": {},
   "outputs": [
    {
     "name": "stdout",
     "output_type": "stream",
     "text": [
      "Demand for different cuisine types on weekdays vs. weekends:\n",
      "   cuisine_type day_of_the_week  count  percentage\n",
      "0       Chinese          Monday      0    0.000000\n",
      "1       Chinese         Tuesday      1   33.333333\n",
      "2       Chinese       Wednesday      1   33.333333\n",
      "3       Chinese        Thursday      0    0.000000\n",
      "4       Chinese          Friday      0    0.000000\n",
      "5       Chinese        Saturday      1   33.333333\n",
      "6       Chinese          Sunday      0    0.000000\n",
      "7        Indian          Monday      0    0.000000\n",
      "8        Indian         Tuesday      0    0.000000\n",
      "9        Indian       Wednesday      0    0.000000\n",
      "10       Indian        Thursday      1   50.000000\n",
      "11       Indian          Friday      0    0.000000\n",
      "12       Indian        Saturday      1   50.000000\n",
      "13       Indian          Sunday      0    0.000000\n",
      "14      Italian          Monday      2   66.666667\n",
      "15      Italian         Tuesday      0    0.000000\n",
      "16      Italian       Wednesday      0    0.000000\n",
      "17      Italian        Thursday      0    0.000000\n",
      "18      Italian          Friday      0    0.000000\n",
      "19      Italian        Saturday      0    0.000000\n",
      "20      Italian          Sunday      1   33.333333\n",
      "21      Mexican          Monday      0    0.000000\n",
      "22      Mexican         Tuesday      0    0.000000\n",
      "23      Mexican       Wednesday      0    0.000000\n",
      "24      Mexican        Thursday      0    0.000000\n",
      "25      Mexican          Friday      1   50.000000\n",
      "26      Mexican        Saturday      0    0.000000\n",
      "27      Mexican          Sunday      1   50.000000\n"
     ]
    },
    {
     "name": "stderr",
     "output_type": "stream",
     "text": [
      "C:\\Users\\BHUPENDRA SAINI\\AppData\\Local\\Temp\\ipykernel_18688\\3023552272.py:2: FutureWarning: The default of observed=False is deprecated and will be changed to True in a future version of pandas. Pass observed=False to retain current behavior or observed=True to adopt the future default and silence this warning.\n",
      "  demand_by_cuisine = orders.groupby(['cuisine_type', 'day_of_the_week']).size().reset_index(name='count')\n"
     ]
    }
   ],
   "source": [
    "#Demand for different cuisine types on weekdays vs. weekends\n",
    "demand_by_cuisine = orders.groupby(['cuisine_type', 'day_of_the_week']).size().reset_index(name='count')\n",
    "total_orders = demand_by_cuisine.groupby('cuisine_type')['count'].sum()\n",
    "demand_by_cuisine['percentage'] = demand_by_cuisine.apply(lambda row: (row['count'] / total_orders[row['cuisine_type']]) * 100, axis=1)\n",
    "print(\"Demand for different cuisine types on weekdays vs. weekends:\")\n",
    "print(demand_by_cuisine)"
   ]
  },
  {
   "cell_type": "code",
   "execution_count": 26,
   "id": "2f28a0d6-f1a8-4674-95d3-25d605e8152e",
   "metadata": {},
   "outputs": [
    {
     "name": "stdout",
     "output_type": "stream",
     "text": [
      "\n",
      "Day of the week with highest average order cost: Tuesday\n"
     ]
    },
    {
     "name": "stderr",
     "output_type": "stream",
     "text": [
      "C:\\Users\\BHUPENDRA SAINI\\AppData\\Local\\Temp\\ipykernel_18688\\2028201023.py:2: FutureWarning: The default of observed=False is deprecated and will be changed to True in a future version of pandas. Pass observed=False to retain current behavior or observed=True to adopt the future default and silence this warning.\n",
      "  average_cost_by_day = orders.groupby('day_of_the_week')['cost'].mean()\n"
     ]
    }
   ],
   "source": [
    "# Day of the week with highest average order cost\n",
    "average_cost_by_day = orders.groupby('day_of_the_week')['cost'].mean()\n",
    "highest_cost_day = average_cost_by_day.idxmax()\n",
    "print(\"\\nDay of the week with highest average order cost:\", highest_cost_day)"
   ]
  },
  {
   "cell_type": "code",
   "execution_count": 27,
   "id": "34ceefa3-0ef6-4a99-9ccb-1ef2ebb2653a",
   "metadata": {},
   "outputs": [
    {
     "name": "stdout",
     "output_type": "stream",
     "text": [
      "\n",
      "Most common day for orders to be placed: Monday\n"
     ]
    }
   ],
   "source": [
    "#Most common day for orders to be placed\n",
    "most_common_day = orders['day_of_the_week'].mode()[0]\n",
    "print(\"\\nMost common day for orders to be placed:\", most_common_day)"
   ]
  },
  {
   "cell_type": "code",
   "execution_count": 28,
   "id": "fb532c57-460e-4259-961d-dcb9c17e9f0a",
   "metadata": {},
   "outputs": [
    {
     "name": "stdout",
     "output_type": "stream",
     "text": [
      "\n",
      "Average rating by cuisine type:\n",
      "cuisine_type\n",
      "Chinese    3.333333\n",
      "Indian     4.500000\n",
      "Italian    3.000000\n",
      "Mexican    4.500000\n",
      "Name: rating, dtype: float64\n"
     ]
    }
   ],
   "source": [
    "#Average rating by cuisine type\n",
    "average_rating_by_cuisine = orders.groupby('cuisine_type')['rating'].mean()\n",
    "print(\"\\nAverage rating by cuisine type:\")\n",
    "print(average_rating_by_cuisine)"
   ]
  },
  {
   "cell_type": "markdown",
   "id": "db1fb549-aa60-4789-bdc9-0fcdab55acca",
   "metadata": {},
   "source": [
    "###OPERATIONAL EFFICIENCY "
   ]
  },
  {
   "cell_type": "code",
   "execution_count": 29,
   "id": "21c7de54-7f94-4f3e-b817-4d0eb1df1ce5",
   "metadata": {},
   "outputs": [
    {
     "name": "stdout",
     "output_type": "stream",
     "text": [
      "The average delivery time for all orders is: 13.00 minutes\n"
     ]
    }
   ],
   "source": [
    "#What is the average delivery time for all orders?\n",
    "data = {\n",
    "    'order_id': [1, 2, 3, 4, 5],\n",
    "    'restaurant_name': ['Restaurant A', 'Restaurant B', 'Restaurant A', 'Restaurant C', 'Restaurant B'],\n",
    "    'food_preparation_time': [20, 15, 25, 30, 18],\n",
    "    'delivery_time': [10, 12, 15, 20, 8]\n",
    "}\n",
    "\n",
    "orders = pd.DataFrame(data)\n",
    "\n",
    "# Calculate average delivery time\n",
    "average_delivery_time = orders['delivery_time'].mean()\n",
    "\n",
    "print(f\"The average delivery time for all orders is: {average_delivery_time:.2f} minutes\")"
   ]
  },
  {
   "cell_type": "code",
   "execution_count": 30,
   "id": "83d98c8c-8108-4e25-a2f0-061f8313fb3a",
   "metadata": {},
   "outputs": [
    {
     "name": "stdout",
     "output_type": "stream",
     "text": [
      "The restaurant with the longest average delivery time is 'Restaurant C' with 20.00 minutes\n"
     ]
    }
   ],
   "source": [
    "#Which restaurant has the longest average delivery time?\n",
    "# Group by restaurant and calculate average delivery time\n",
    "average_delivery_time_restaurant = orders.groupby('restaurant_name')['delivery_time'].mean()\n",
    "\n",
    "# Find the restaurant with the longest average delivery time\n",
    "restaurant_longest_delivery_time = average_delivery_time_restaurant.idxmax()\n",
    "longest_delivery_time = average_delivery_time_restaurant.max()\n",
    "\n",
    "print(f\"The restaurant with the longest average delivery time is '{restaurant_longest_delivery_time}' with {longest_delivery_time:.2f} minutes\")"
   ]
  },
  {
   "cell_type": "code",
   "execution_count": 31,
   "id": "0dcc1d0a-982e-4878-b913-1ec20faf64da",
   "metadata": {},
   "outputs": [
    {
     "name": "stdout",
     "output_type": "stream",
     "text": [
      "The correlation coefficient between food preparation time and delivery time is: 0.85\n"
     ]
    }
   ],
   "source": [
    "#Is there a relationship between food preparation time and delivery time?\n",
    "correlation = orders['food_preparation_time'].corr(orders['delivery_time'])\n",
    "\n",
    "print(f\"The correlation coefficient between food preparation time and delivery time is: {correlation:.2f}\")"
   ]
  },
  {
   "cell_type": "code",
   "execution_count": 34,
   "id": "50cf5061-530f-4c58-a015-5079f7d20998",
   "metadata": {},
   "outputs": [],
   "source": [
    "#How does the delivery time impact customer ratings?\n"
   ]
  },
  {
   "cell_type": "markdown",
   "id": "5c570b78-305d-4933-a9bc-05811f378cae",
   "metadata": {},
   "source": [
    "###CUSTOMER INSIGHTS"
   ]
  },
  {
   "cell_type": "code",
   "execution_count": 35,
   "id": "be4d8544-213e-4bbb-8274-1824f44775d3",
   "metadata": {},
   "outputs": [
    {
     "name": "stdout",
     "output_type": "stream",
     "text": [
      "The repeat order rate is: 42.86%\n"
     ]
    }
   ],
   "source": [
    "#What is the repeat order rate (number of customers who have placed more than one order)?\n",
    "# Example data (replace with your actual data loading)\n",
    "data = {\n",
    "    'order_id': [1, 2, 3, 4, 5, 6, 7, 8, 9, 10],\n",
    "    'customer_id': [101, 102, 103, 101, 104, 105, 103, 106, 107, 102],\n",
    "    'restaurant_name': ['Restaurant A', 'Restaurant B', 'Restaurant A', 'Restaurant C', 'Restaurant B',\n",
    "                        'Restaurant A', 'Restaurant B', 'Restaurant C', 'Restaurant A', 'Restaurant B'],\n",
    "    'cuisine_type': ['Italian', 'Chinese', 'Indian', 'Mexican', 'Italian',\n",
    "                     'Chinese', 'Indian', 'Mexican', 'Italian', 'Chinese'],\n",
    "    'cost': [30, 25, 40, 35, 20, 45, 28, 38, 32, 22],\n",
    "    'day_of_the_week': ['Monday', 'Wednesday', 'Saturday', 'Friday', 'Sunday',\n",
    "                        'Tuesday', 'Thursday', 'Sunday', 'Monday', 'Saturday'],\n",
    "    'rating': [4, 3, 5, 4, 2, 3, 4, 5, 3, 4],\n",
    "    'food_preparation_time': [20, 15, 25, 30, 18, 22, 17, 28, 26, 20],\n",
    "    'delivery_time': [10, 12, 15, 20, 8, 11, 14, 18, 16, 10]\n",
    "}\n",
    "\n",
    "orders = pd.DataFrame(data)\n",
    "\n",
    "# 1. Repeat order rate (number of customers who have placed more than one order)\n",
    "repeat_customers = orders.groupby('customer_id').size()\n",
    "repeat_order_rate = (repeat_customers > 1).sum() / repeat_customers.count()\n",
    "print(f\"The repeat order rate is: {repeat_order_rate:.2%}\")\n"
   ]
  },
  {
   "cell_type": "code",
   "execution_count": 36,
   "id": "7374987e-3aed-4286-83d8-9927f3ea8bd4",
   "metadata": {},
   "outputs": [
    {
     "name": "stdout",
     "output_type": "stream",
     "text": [
      "The percentage of orders with a rating of 4 or higher is: 60.00%\n"
     ]
    }
   ],
   "source": [
    "#What percentage of orders receive a rating of 4 or higher?\n",
    "high_rating_orders = orders[orders['rating'] >= 4]\n",
    "percentage_high_rating = (len(high_rating_orders) / len(orders)) * 100\n",
    "\n",
    "print(f\"The percentage of orders with a rating of 4 or higher is: {percentage_high_rating:.2f}%\")"
   ]
  },
  {
   "cell_type": "code",
   "execution_count": null,
   "id": "9a41aa54-d449-46c5-9a11-fefb58ee750c",
   "metadata": {},
   "outputs": [],
   "source": []
  }
 ],
 "metadata": {
  "kernelspec": {
   "display_name": "Python 3 (ipykernel)",
   "language": "python",
   "name": "python3"
  },
  "language_info": {
   "codemirror_mode": {
    "name": "ipython",
    "version": 3
   },
   "file_extension": ".py",
   "mimetype": "text/x-python",
   "name": "python",
   "nbconvert_exporter": "python",
   "pygments_lexer": "ipython3",
   "version": "3.11.7"
  }
 },
 "nbformat": 4,
 "nbformat_minor": 5
}
